{
 "cells": [
  {
   "cell_type": "code",
   "execution_count": 1,
   "metadata": {},
   "outputs": [],
   "source": [
    "import os\n",
    "from inspect import getsourcefile\n",
    "from os.path import abspath"
   ]
  },
  {
   "cell_type": "code",
   "execution_count": 2,
   "metadata": {},
   "outputs": [],
   "source": [
    "#从Vader库中引入情感分析器\n",
    "from vaderSentiment.vaderSentiment.vaderSentiment import SentimentIntensityAnalyzer"
   ]
  },
  {
   "cell_type": "code",
   "execution_count": 3,
   "metadata": {},
   "outputs": [],
   "source": [
    "TweetList = [\"amazing!\",\"AMAZING!\",\"DON'T CARE DON'T CARE DON'T CARE \",\"don't care don't care don't care\"]"
   ]
  },
  {
   "cell_type": "markdown",
   "metadata": {},
   "source": [
    "### 使用vader进行情感分析"
   ]
  },
  {
   "cell_type": "code",
   "execution_count": 4,
   "metadata": {},
   "outputs": [
    {
     "name": "stdout",
     "output_type": "stream",
     "text": [
      "amazing!--------------------------------{'neg': 0.0, 'neu': 0.0, 'pos': 1.0, 'compound': 0.6239}\n",
      "AMAZING!--------------------------------{'neg': 0.0, 'neu': 0.0, 'pos': 1.0, 'compound': 0.6239}\n",
      "DON'T CARE DON'T CARE DON'T CARE -------{'neg': 0.262, 'neu': 0.299, 'pos': 0.439, 'compound': 0.1978}\n",
      "don't care don't care don't care--------{'neg': 0.262, 'neu': 0.299, 'pos': 0.439, 'compound': 0.1978}\n",
      "-----------------------------------\n"
     ]
    }
   ],
   "source": [
    "analyzer = SentimentIntensityAnalyzer()\n",
    "for sentence in TweetList:\n",
    "    vs = analyzer.polarity_scores(sentence)\n",
    "    print(\"{:-<40}{}\".format(sentence,str(vs)))\n",
    "print(\"-----------------------------------\")"
   ]
  },
  {
   "cell_type": "code",
   "execution_count": 5,
   "metadata": {},
   "outputs": [
    {
     "data": {
      "text/plain": [
       "{'neg': 0.147, 'neu': 0.278, 'pos': 0.575, 'compound': 0.8042}"
      ]
     },
     "execution_count": 5,
     "metadata": {},
     "output_type": "execute_result"
    }
   ],
   "source": [
    "analyzer.polarity_scores(TweetList)"
   ]
  },
  {
   "cell_type": "markdown",
   "metadata": {},
   "source": [
    "### 使用VaderPro进行情感分析"
   ]
  },
  {
   "cell_type": "code",
   "execution_count": 6,
   "metadata": {},
   "outputs": [
    {
     "name": "stdout",
     "output_type": "stream",
     "text": [
      "amazing!--------------------------------{'neg': 0.0, 'neu': 0.0, 'pos': 1.0, 'compound': 0.6239}\n",
      "AMAZING!--------------------------------{'neg': 0.0, 'neu': 0.0, 'pos': 1.0, 'compound': 0.6996}\n",
      "DON'T CARE DON'T CARE DON'T CARE -------{'neg': 0.275, 'neu': 0.272, 'pos': 0.454, 'compound': 0.2446}\n",
      "don't care don't care don't care--------{'neg': 0.262, 'neu': 0.299, 'pos': 0.439, 'compound': 0.1978}\n",
      "-----------------------------------\n"
     ]
    }
   ],
   "source": [
    "analyzer_v1 = SentimentIntensityAnalyzer(version =1.0)\n",
    "for sentence in TweetList:\n",
    "    vs = analyzer_v1.polarity_scores(sentence)\n",
    "    print(\"{:-<40}{}\".format(sentence,str(vs)))\n",
    "print(\"-----------------------------------\")"
   ]
  },
  {
   "cell_type": "code",
   "execution_count": 7,
   "metadata": {},
   "outputs": [
    {
     "data": {
      "text/plain": [
       "{'neg': 0.147, 'neu': 0.278, 'pos': 0.575, 'compound': 0.8042}"
      ]
     },
     "execution_count": 7,
     "metadata": {},
     "output_type": "execute_result"
    }
   ],
   "source": [
    "analyzer_v1.polarity_scores(TweetList)"
   ]
  },
  {
   "cell_type": "markdown",
   "metadata": {},
   "source": [
    "### 测试一下nltk的分词效果"
   ]
  },
  {
   "cell_type": "code",
   "execution_count": 8,
   "metadata": {},
   "outputs": [],
   "source": [
    "import nltk"
   ]
  },
  {
   "cell_type": "code",
   "execution_count": 9,
   "metadata": {},
   "outputs": [],
   "source": [
    "def replace(word, tag):\n",
    "    if tag == \"NNP\" or tag == \"NNPS\":\n",
    "        return \"PROPER_NOUN\"\n",
    "    return word"
   ]
  },
  {
   "cell_type": "code",
   "execution_count": 10,
   "metadata": {},
   "outputs": [
    {
     "data": {
      "text/plain": [
       "[('LMAO', 'NNP'), ('AMAZING', 'NNP')]"
      ]
     },
     "execution_count": 10,
     "metadata": {},
     "output_type": "execute_result"
    }
   ],
   "source": [
    "text = \"LMAO AMAZING\"\n",
    "s_token = nltk.word_tokenize(text)\n",
    "s_tagged = nltk.pos_tag(s_token)\n",
    "s_tagged"
   ]
  },
  {
   "cell_type": "code",
   "execution_count": 11,
   "metadata": {},
   "outputs": [
    {
     "data": {
      "text/plain": [
       "['NNP', 'NNP']"
      ]
     },
     "execution_count": 11,
     "metadata": {},
     "output_type": "execute_result"
    }
   ],
   "source": [
    "y=[x[1] for x in s_tagged]  \n",
    "y"
   ]
  },
  {
   "cell_type": "code",
   "execution_count": 12,
   "metadata": {},
   "outputs": [
    {
     "data": {
      "text/plain": [
       "'PROPER_NOUN PROPER_NOUN'"
      ]
     },
     "execution_count": 12,
     "metadata": {},
     "output_type": "execute_result"
    }
   ],
   "source": [
    "text_v = [replace(item,tag) for (item,tag) in s_tagged]\n",
    "' '.join(text_v)"
   ]
  },
  {
   "cell_type": "code",
   "execution_count": 13,
   "metadata": {},
   "outputs": [
    {
     "data": {
      "text/plain": [
       "[('AMAZING', 'NN')]"
      ]
     },
     "execution_count": 13,
     "metadata": {},
     "output_type": "execute_result"
    }
   ],
   "source": [
    "test2 = \"AMAZING\"\n",
    "test2 = nltk.word_tokenize(test2)\n",
    "nltk.pos_tag(test2)"
   ]
  },
  {
   "cell_type": "markdown",
   "metadata": {},
   "source": [
    "### 这是增加了专有名词替换功能后的效果"
   ]
  },
  {
   "cell_type": "code",
   "execution_count": 14,
   "metadata": {},
   "outputs": [
    {
     "name": "stdout",
     "output_type": "stream",
     "text": [
      "amazing!--------------------------------{'neg': 0.0, 'neu': 0.196, 'pos': 0.804, 'compound': 0.6239}\n",
      "AMAZING!--------------------------------{'neg': 0.0, 'neu': 0.172, 'pos': 0.828, 'compound': 0.7027}\n",
      "DON'T CARE DON'T CARE DON'T CARE -------{'neg': 0.0, 'neu': 0.681, 'pos': 0.319, 'compound': 0.5789}\n",
      "don't care don't care don't care--------{'neg': 0.568, 'neu': 0.432, 'pos': 0.0, 'compound': -0.7835}\n",
      "-----------------------------------\n"
     ]
    }
   ],
   "source": [
    "analyzer_v2 = SentimentIntensityAnalyzer(version = 2)\n",
    "for sentence in TweetList:\n",
    "    vs = analyzer_v2.polarity_scores(sentence)\n",
    "    print(\"{:-<40}{}\".format(sentence,str(vs)))\n",
    "print(\"-----------------------------------\")"
   ]
  },
  {
   "cell_type": "code",
   "execution_count": 15,
   "metadata": {
    "scrolled": true
   },
   "outputs": [
    {
     "name": "stdout",
     "output_type": "stream",
     "text": [
      "amazing !\n",
      "amazing!--------------------------------{'neg': 0.0, 'neu': 0.196, 'pos': 0.804, 'compound': 0.6239}\n",
      "\n",
      "AMAZING !\n",
      "AMAZING!--------------------------------{'neg': 0.0, 'neu': 0.172, 'pos': 0.828, 'compound': 0.7027}\n",
      "\n",
      "DO PROPER_NOUN PROPER_NOUN PROPER_NOUN PROPER_NOUN PROPER_NOUN PROPER_NOUN PROPER_NOUN CARE\n",
      "DON'T CARE DON'T CARE DON'T CARE -------{'neg': 0.0, 'neu': 0.681, 'pos': 0.319, 'compound': 0.5789}\n",
      "\n",
      "do n't care do n't care do n't care\n",
      "don't care don't care don't care--------{'neg': 0.568, 'neu': 0.432, 'pos': 0.0, 'compound': -0.7835}\n",
      "\n",
      "___________________________________\n"
     ]
    }
   ],
   "source": [
    "analyzer3 = SentimentIntensityAnalyzer(version = 2,debug=True)\n",
    "for sentence in TweetList:\n",
    "    vs = analyzer3.polarity_scores(sentence)\n",
    "    print(\"{:-<40}{}\\n\".format(sentence,str(vs)))\n",
    "print(\"___________________________________\")"
   ]
  },
  {
   "cell_type": "code",
   "execution_count": 16,
   "metadata": {},
   "outputs": [
    {
     "name": "stdout",
     "output_type": "stream",
     "text": [
      "I'm VERY happy, you're VERY angry-------{'neg': 0.331, 'neu': 0.306, 'pos': 0.362, 'compound': 0.1027}\n",
      "I'm very happy ,you're VERY angry-------{'neg': 0.351, 'neu': 0.325, 'pos': 0.324, 'compound': -0.0857}\n",
      "-----------------------------------\n"
     ]
    }
   ],
   "source": [
    "test3=[\"I'm VERY happy, you're VERY angry\",\"I'm very happy ,you're VERY angry\"]\n",
    "for sentence in test3:\n",
    "    vs = analyzer.polarity_scores(sentence)\n",
    "    print(\"{:-<40}{}\".format(sentence,str(vs)))\n",
    "print(\"-----------------------------------\")"
   ]
  }
 ],
 "metadata": {
  "kernelspec": {
   "display_name": "Python 3",
   "language": "python",
   "name": "python3"
  },
  "language_info": {
   "codemirror_mode": {
    "name": "ipython",
    "version": 3
   },
   "file_extension": ".py",
   "mimetype": "text/x-python",
   "name": "python",
   "nbconvert_exporter": "python",
   "pygments_lexer": "ipython3",
   "version": "3.7.6"
  }
 },
 "nbformat": 4,
 "nbformat_minor": 4
}
